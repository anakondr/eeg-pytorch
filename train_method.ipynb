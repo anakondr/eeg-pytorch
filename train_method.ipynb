{
 "cells": [
  {
   "cell_type": "markdown",
   "metadata": {},
   "source": [
    "## Train time estimate "
   ]
  },
  {
   "cell_type": "code",
   "execution_count": 1,
   "metadata": {},
   "outputs": [],
   "source": [
    "%matplotlib inline\n",
    "%load_ext autoreload\n",
    "%autoreload 2\n",
    "\n",
    "import time\n",
    "import copy\n",
    "import torch\n",
    "import pandas as pd\n",
    "from torch.utils.data import TensorDataset, DataLoader \n",
    "\n",
    "from nu_smrutils import load_pooled, loaddat, get_data_loaders, train_time \n",
    "from nu_smrutils import CNN2D"
   ]
  },
  {
   "cell_type": "code",
   "execution_count": 2,
   "metadata": {},
   "outputs": [
    {
     "name": "stdout",
     "output_type": "stream",
     "text": [
      "Your GPU device name : GeForce GTX 1050 Ti\n"
     ]
    }
   ],
   "source": [
    "dev = torch.device(\"cuda\" if torch.cuda.is_available() else \"cpu\")\n",
    "\n",
    "if dev.type == 'cuda':\n",
    "   print('Your GPU device name :', torch.cuda.get_device_name())        \n",
    "else:\n",
    "   print('No GPU Available :', dev)"
   ]
  },
  {
   "cell_type": "code",
   "execution_count": 3,
   "metadata": {},
   "outputs": [],
   "source": [
    "dname = dict(BNCI2014004 = 'aBNCI2014004R.pickle',\n",
    "             BNCI2014001 = 'aBNCI2014001R.pickle',\n",
    "             Weibo2014   = 'aWeibo2014R.pickle',\n",
    "             Physionet   = 'aPhysionetRR.pickle')"
   ]
  },
  {
   "cell_type": "code",
   "execution_count": 8,
   "metadata": {},
   "outputs": [],
   "source": [
    "num_epochs = 150 \n",
    "learning_rate = 1e-3\n",
    "weight_decay = 1e-4  \n",
    "batch_size = 64\n",
    "verbose = 2\n",
    "\n",
    "fs = 80\n",
    "# define kernel size in terms of ms length \n",
    "time_window = 100 #ms\n",
    "width = time_window*fs//1000    \n",
    "\n",
    "# ker = 8 #timelength//chans \n",
    "h, w = 3, 1  #hight and width of a rectangular kernel      \n",
    "\n",
    "# kernel size \n",
    "kernel_size = [(h, w*width), (h, w*width), (h, w*width), (h, w*width),\n",
    "               (h, w*width), (h, w*width), (h, w*width), (h, w*width)]\n",
    "\n",
    "conv_chan   = [1, 128, 64, 32, 16, 8]                     "
   ]
  },
  {
   "cell_type": "code",
   "execution_count": null,
   "metadata": {
    "scrolled": true
   },
   "outputs": [
    {
     "name": "stdout",
     "output_type": "stream",
     "text": [
      "Input data shape torch.Size([4433, 1, 3, 321])\n",
      "Input shape and flattened out torch.Size([1, 128, 3, 161]) 61824\n",
      "Input shape and flattened out torch.Size([1, 64, 3, 81]) 15552\n",
      "Input shape and flattened out torch.Size([1, 32, 3, 41]) 3936\n",
      "Input shape and flattened out torch.Size([1, 16, 3, 21]) 1008\n",
      "Input shape and flattened out torch.Size([1, 8, 3, 11]) 264\n",
      "Epoch 1/150\n",
      "Epoch 2/150\n",
      "Epoch 3/150\n",
      "Epoch 4/150\n",
      "Epoch 5/150\n",
      "Epoch 6/150\n",
      "Epoch 7/150\n",
      "Epoch 8/150\n",
      "Epoch 9/150\n",
      "Epoch 10/150\n",
      "Epoch 11/150\n",
      "Epoch 12/150\n",
      "Epoch 13/150\n",
      "Epoch 14/150\n",
      "Epoch 15/150\n",
      "Epoch 16/150\n",
      "Epoch 17/150\n",
      "Epoch 18/150\n",
      "Epoch 19/150\n",
      "Epoch 20/150\n",
      "Epoch 21/150\n",
      "Epoch 22/150\n",
      "Epoch 23/150\n",
      "Epoch 24/150\n",
      "Epoch 25/150\n",
      "Epoch 26/150\n",
      "Epoch 27/150\n",
      "Epoch 28/150\n",
      "Epoch 29/150\n",
      "Epoch 30/150\n",
      "Epoch 31/150\n",
      "Epoch 32/150\n",
      "Epoch 33/150\n",
      "Epoch 34/150\n",
      "Epoch 35/150\n",
      "Epoch 36/150\n",
      "Epoch 37/150\n",
      "Epoch 38/150\n",
      "Epoch 39/150\n",
      "Epoch 40/150\n",
      "Epoch 41/150\n",
      "Epoch 42/150\n",
      "Epoch 43/150\n",
      "Epoch 44/150\n",
      "Epoch 45/150\n",
      "Epoch 46/150\n",
      "Epoch 47/150\n",
      "Epoch 48/150\n",
      "Epoch 49/150\n",
      "Epoch 50/150\n",
      "Epoch 51/150\n",
      "Epoch 52/150\n",
      "Epoch 53/150\n",
      "Epoch 54/150\n",
      "Epoch 55/150\n",
      "Epoch 56/150\n",
      "Epoch 57/150\n",
      "Epoch 58/150\n",
      "Epoch 59/150\n",
      "Epoch 60/150\n",
      "Epoch 61/150\n",
      "Epoch 62/150\n",
      "Epoch 63/150\n",
      "Epoch 64/150\n",
      "Epoch 65/150\n",
      "Epoch 66/150\n",
      "Epoch 67/150\n",
      "Epoch 68/150\n",
      "Epoch 69/150\n",
      "Epoch 70/150\n",
      "Epoch 71/150\n",
      "Epoch 72/150\n",
      "Epoch 73/150\n"
     ]
    }
   ],
   "source": [
    "# itenu_smrutilsis one of : ['BNCI2014004', 'BNCI2014001', 'Weibo2014', 'Physionet']\n",
    "#itemname = 'BNCI2014004'\n",
    "#filename = dname[itemname]\n",
    "#iname    = itemname + '__'    \n",
    "### Load pooled EEG data\n",
    "#- the pooled data represents a set of combined subject-specific EEG data\n",
    "alldat = dict()\n",
    "\n",
    "for ii, itemname in enumerate(dname.keys()):\n",
    "\n",
    "    data = loaddat(dname[itemname])\n",
    "    \n",
    "    subjectIndex = list(range(108))\n",
    "    class_name = ['left_hand', 'right_hand']\n",
    "    \n",
    "    datp = load_pooled(data, subjectIndex, class_name, normalize = True, test_size = 0.15)\n",
    "    dat  = get_data_loaders(datp, batch_size = 64)\n",
    "    \n",
    "    input_size = (1, dat['test_data']['x_test'].shape[-2], \n",
    "                     dat['test_data']['x_test'].shape[-1])\n",
    "\n",
    "    # Define the architecture\n",
    "    model = CNN2D(input_size    = input_size, \n",
    "                  kernel_size   = kernel_size, \n",
    "                  conv_channels = conv_chan, \n",
    "                  dense_size    = 256, \n",
    "                  dropout       = 0.5)   \n",
    "    \n",
    "    optimizer = torch.optim.Adam(model.parameters(), lr=learning_rate, weight_decay=weight_decay)\n",
    "    criterion = torch.nn.CrossEntropyLoss()\n",
    "\n",
    "    model.to(dev)  \n",
    "    criterion.to(dev)       \n",
    "   \n",
    "    ttime = train_time(model, dat['dset_loaders'], dat['dset_sizes'],\n",
    "                       criterion, optimizer, dev, num_epochs = num_epochs)\n",
    "    \n",
    "    alldat[itemname] = ttime \n"
   ]
  },
  {
   "cell_type": "code",
   "execution_count": 103,
   "metadata": {},
   "outputs": [
    {
     "data": {
      "text/plain": [
       "dict_keys(['filename', 'time_elapsed_epoch', 'time_elapsed_batch', 'total_time_elapsed'])"
      ]
     },
     "execution_count": 103,
     "metadata": {},
     "output_type": "execute_result"
    }
   ],
   "source": [
    "ttime.keys()"
   ]
  },
  {
   "cell_type": "code",
   "execution_count": 104,
   "metadata": {},
   "outputs": [],
   "source": [
    "traintime = ttime"
   ]
  },
  {
   "cell_type": "code",
   "execution_count": 105,
   "metadata": {},
   "outputs": [
    {
     "data": {
      "text/plain": [
       "dict_keys(['filename', 'time_elapsed_epoch', 'time_elapsed_batch', 'total_time_elapsed'])"
      ]
     },
     "execution_count": 105,
     "metadata": {},
     "output_type": "execute_result"
    }
   ],
   "source": [
    "traintime.keys()"
   ]
  },
  {
   "cell_type": "code",
   "execution_count": 106,
   "metadata": {},
   "outputs": [
    {
     "data": {
      "text/plain": [
       "0.0048427581787109375"
      ]
     },
     "execution_count": 106,
     "metadata": {},
     "output_type": "execute_result"
    }
   ],
   "source": [
    "len(time_elapsed_epoch)\n",
    "\n",
    "time_elapsed_epoch[0]\n",
    "total_time_elapsed\n",
    "time_elapsed_batch[0]"
   ]
  },
  {
   "cell_type": "code",
   "execution_count": 107,
   "metadata": {},
   "outputs": [
    {
     "data": {
      "text/html": [
       "<div>\n",
       "<style scoped>\n",
       "    .dataframe tbody tr th:only-of-type {\n",
       "        vertical-align: middle;\n",
       "    }\n",
       "\n",
       "    .dataframe tbody tr th {\n",
       "        vertical-align: top;\n",
       "    }\n",
       "\n",
       "    .dataframe thead th {\n",
       "        text-align: right;\n",
       "    }\n",
       "</style>\n",
       "<table border=\"1\" class=\"dataframe\">\n",
       "  <thead>\n",
       "    <tr style=\"text-align: right;\">\n",
       "      <th></th>\n",
       "      <th>0</th>\n",
       "    </tr>\n",
       "  </thead>\n",
       "  <tbody>\n",
       "    <tr>\n",
       "      <th>count</th>\n",
       "      <td>150.000000</td>\n",
       "    </tr>\n",
       "    <tr>\n",
       "      <th>mean</th>\n",
       "      <td>4.956922</td>\n",
       "    </tr>\n",
       "    <tr>\n",
       "      <th>std</th>\n",
       "      <td>0.075094</td>\n",
       "    </tr>\n",
       "    <tr>\n",
       "      <th>min</th>\n",
       "      <td>4.856899</td>\n",
       "    </tr>\n",
       "    <tr>\n",
       "      <th>25%</th>\n",
       "      <td>4.911341</td>\n",
       "    </tr>\n",
       "    <tr>\n",
       "      <th>50%</th>\n",
       "      <td>4.936113</td>\n",
       "    </tr>\n",
       "    <tr>\n",
       "      <th>75%</th>\n",
       "      <td>4.976263</td>\n",
       "    </tr>\n",
       "    <tr>\n",
       "      <th>max</th>\n",
       "      <td>5.323743</td>\n",
       "    </tr>\n",
       "  </tbody>\n",
       "</table>\n",
       "</div>"
      ],
      "text/plain": [
       "                0\n",
       "count  150.000000\n",
       "mean     4.956922\n",
       "std      0.075094\n",
       "min      4.856899\n",
       "25%      4.911341\n",
       "50%      4.936113\n",
       "75%      4.976263\n",
       "max      5.323743"
      ]
     },
     "execution_count": 107,
     "metadata": {},
     "output_type": "execute_result"
    },
    {
     "data": {
      "image/png": "[encoded data removed]",
      "text/plain": [
       "<Figure size 432x288 with 1 Axes>"
      ]
     },
     "metadata": {
      "needs_background": "light"
     },
     "output_type": "display_data"
    }
   ],
   "source": [
    "df = pd.DataFrame(traintime['time_elapsed_epoch'])\n",
    "df.boxplot()\n",
    "df.describe()"
   ]
  },
  {
   "cell_type": "code",
   "execution_count": 113,
   "metadata": {},
   "outputs": [
    {
     "data": {
      "text/plain": [
       "12.39230793317159"
      ]
     },
     "execution_count": 113,
     "metadata": {},
     "output_type": "execute_result"
    }
   ],
   "source": [
    "traintime['total_time_elapsed']/60"
   ]
  },
  {
   "cell_type": "code",
   "execution_count": 110,
   "metadata": {},
   "outputs": [
    {
     "data": {
      "text/plain": [
       "0    743.538363\n",
       "dtype: float64"
      ]
     },
     "execution_count": 110,
     "metadata": {},
     "output_type": "execute_result"
    }
   ],
   "source": [
    "df.sum()"
   ]
  },
  {
   "cell_type": "code",
   "execution_count": 112,
   "metadata": {},
   "outputs": [
    {
     "data": {
      "text/html": [
       "<div>\n",
       "<style scoped>\n",
       "    .dataframe tbody tr th:only-of-type {\n",
       "        vertical-align: middle;\n",
       "    }\n",
       "\n",
       "    .dataframe tbody tr th {\n",
       "        vertical-align: top;\n",
       "    }\n",
       "\n",
       "    .dataframe thead th {\n",
       "        text-align: right;\n",
       "    }\n",
       "</style>\n",
       "<table border=\"1\" class=\"dataframe\">\n",
       "  <thead>\n",
       "    <tr style=\"text-align: right;\">\n",
       "      <th></th>\n",
       "      <th>0</th>\n",
       "    </tr>\n",
       "  </thead>\n",
       "  <tbody>\n",
       "    <tr>\n",
       "      <th>count</th>\n",
       "      <td>69.000000</td>\n",
       "    </tr>\n",
       "    <tr>\n",
       "      <th>mean</th>\n",
       "      <td>0.004896</td>\n",
       "    </tr>\n",
       "    <tr>\n",
       "      <th>std</th>\n",
       "      <td>0.000242</td>\n",
       "    </tr>\n",
       "    <tr>\n",
       "      <th>min</th>\n",
       "      <td>0.004674</td>\n",
       "    </tr>\n",
       "    <tr>\n",
       "      <th>25%</th>\n",
       "      <td>0.004758</td>\n",
       "    </tr>\n",
       "    <tr>\n",
       "      <th>50%</th>\n",
       "      <td>0.004822</td>\n",
       "    </tr>\n",
       "    <tr>\n",
       "      <th>75%</th>\n",
       "      <td>0.004915</td>\n",
       "    </tr>\n",
       "    <tr>\n",
       "      <th>max</th>\n",
       "      <td>0.005986</td>\n",
       "    </tr>\n",
       "  </tbody>\n",
       "</table>\n",
       "</div>"
      ],
      "text/plain": [
       "               0\n",
       "count  69.000000\n",
       "mean    0.004896\n",
       "std     0.000242\n",
       "min     0.004674\n",
       "25%     0.004758\n",
       "50%     0.004822\n",
       "75%     0.004915\n",
       "max     0.005986"
      ]
     },
     "execution_count": 112,
     "metadata": {},
     "output_type": "execute_result"
    },
    {
     "data": {
      "image/png": "[encoded data removed]",
      "text/plain": [
       "<Figure size 432x288 with 1 Axes>"
      ]
     },
     "metadata": {
      "needs_background": "light"
     },
     "output_type": "display_data"
    }
   ],
   "source": [
    "df = pd.DataFrame(traintime['time_elapsed_batch'])\n",
    "df.boxplot()\n",
    "df.describe()"
   ]
  },
  {
   "cell_type": "markdown",
   "metadata": {},
   "source": [
    "def train_time(model, dset_loaders, dset_sizes, criterion, \n",
    "               optimizer, dev,  num_epochs = 150):  \n",
    "    \"\"\"This function give estimate of training time taken for a specific model\n",
    "    \n",
    "    \"\"\"\n",
    "\n",
    "    best_model, best_acc = model, 0.0 \n",
    "    train_losses, val_losses, train_accs = [],[],[]\n",
    "    val_accs, train_labels, val_labels   = [],[],[]\n",
    "\n",
    "    # epoch time \n",
    "    train_start_time = time.time()\n",
    "    time_elapsed_epoch = []\n",
    "\n",
    "    for epoch in range(num_epochs):    \n",
    "      epoch_start_time = time.time()  \n",
    "\n",
    "      print('Epoch {}/{}'.format(epoch+1, num_epochs))          \n",
    "      #### TRAIN PHASE ####\n",
    "      ypred_labels, ytrue_labels = [], []   \n",
    "      model.train(True)      \n",
    "      running_loss, running_corrects = 0.0, 0.0  \n",
    "\n",
    "      time_elapsed_batch = []     \n",
    "      #### loop across batches ####\n",
    "      for batch, datum in enumerate(dset_loaders['train']):          \n",
    "          # first batch etc \n",
    "          inputs, labels = datum # get data \n",
    "          optimizer.zero_grad() # zero gradient         \n",
    "\n",
    "          if not batch % 100:\n",
    "            print('Processing batch: {} / Data : {}:'.format(batch, inputs.shape))\n",
    "\n",
    "          batch_start_time = time.time() # record time                 \n",
    "          preds= model(inputs.to(dev))   # make the prediction      \n",
    "\n",
    "          loss = criterion(preds, labels.type(torch.LongTensor).to(dev)) # Calculate loss          \n",
    "          loss.backward() # Backpropogate       \n",
    "          optimizer.step()# Update the weights          \n",
    "\n",
    "          time_elapsed_batch.append(time.time() - batch_start_time) # record time\n",
    "\n",
    "          with torch.no_grad():\n",
    "              # storch batch training performance \n",
    "              running_loss     += float(loss.item())                  \n",
    "              running_corrects += torch.sum(preds.data.max(1)[1] == labels.data.to(dev))           \n",
    "              ytrue_labels.append(labels.data.cpu().detach().numpy())\n",
    "              ypred_labels.append(preds.data.max(1)[1].cpu().detach().numpy())        \n",
    "              del loss  \n",
    "\n",
    "      # ********* get the epoch loss and accuracy *********         \n",
    "      epoch_loss = running_loss / dset_sizes['train']\n",
    "      epoch_acc  = running_corrects.cpu().numpy()/dset_sizes['train']     \n",
    "\n",
    "      train_losses.append(epoch_loss)\n",
    "      train_accs.append(epoch_acc) \n",
    "      train_labels.append(dict(ypred = ypred_labels, ytrue = ytrue_labels))                  \n",
    "\n",
    "      # record each epoch time. \n",
    "      time_elapsed_epoch.append(time.time() - epoch_start_time)  \n",
    "\n",
    "    # record total train time     \n",
    "    total_time_elapsed = time.time() - train_start_time  \n",
    "\n",
    "    # save time info\n",
    "    traintime = dict()\n",
    "    traintime['filename'] = itemname \n",
    "    traintime['time_elapsed_epoch'] = time_elapsed_epoch\n",
    "    traintime['time_elapsed_batch'] = time_elapsed_batch\n",
    "    traintime['total_time_elapsed'] = total_time_elapsed\n",
    "   \n",
    "    return traintime     "
   ]
  },
  {
   "cell_type": "markdown",
   "metadata": {},
   "source": [
    "  model.train(False)     \n",
    "  for batch, vdatum in enumerate(dset_loaders['val']): \n",
    "      inputs, labels = vdatum\n",
    "      if not batch % 10:\n",
    "        print('Validate batch: {} / Data : {}:'.format(batch, inputs.shape))       \n",
    "\n",
    "      preds = model(inputs.to(dev))  # predict and calculate the loss         \n",
    "      loss  = criterion(preds, labels.type(torch.LongTensor).to(dev))               \n",
    "      \n",
    "      running_loss     += float(loss.item())                  \n",
    "      running_corrects += torch.sum(preds.data.max(1)[1] == labels.data.to(dev))           \n",
    "      ytrue_labels.append(labels.data.cpu().detach().numpy())\n",
    "      ypred_labels.append(preds.data.max(1)[1].cpu().detach().numpy())              \n",
    "      del loss     \n",
    "  vepoch_loss = running_loss / dset_sizes['val'] \n",
    "  vepoch_acc  = running_corrects.cpu().numpy()/dset_sizes['val']  \n",
    "\n",
    "  if  vepoch_acc > best_acc:\n",
    "      best_acc, best_epoch = vepoch_acc, epoch \n",
    "      best_model = copy.deepcopy(model)           \n",
    "\n",
    "  val_losses.append(vepoch_loss)\n",
    "  val_accs.append(vepoch_acc) \n",
    "  val_labels.append(dict(ypred = ypred_labels, ytrue = ytrue_labels))                  \n",
    "\n",
    "def get_best_epoch_labels(train_labels, best_epoch):\n",
    "    \"\"\"This function is used by train_model to store best epoch labels\"\"\"\n",
    "    import numpy as np\n",
    "    \n",
    "    for jj in range(len(train_labels[best_epoch]['ypred'])-1):    \n",
    "        if jj == 0: \n",
    "          ypred = train_labels[best_epoch]['ypred'][jj]              \n",
    "          ytrue = train_labels[best_epoch]['ytrue'][jj] \n",
    "            \n",
    "        ypred = np.concatenate([ypred, train_labels[best_epoch]['ypred'][jj+1]])\n",
    "        ytrue = np.concatenate([ytrue, train_labels[best_epoch]['ytrue'][jj+1]])            \n",
    "    return ypred, ytrue\n",
    "\n",
    "time_elapsed = time.time() - start_time  \n",
    "\n",
    "ytrain_best = get_best_epoch_labels(train_labels, best_epoch)\n",
    "yval_best   = get_best_epoch_labels(val_labels,   best_epoch)      \n",
    "\n",
    "info = dict(ytrain = ytrain_best, yval = yval_best, \n",
    "          best_epoch = best_epoch, best_acc = best_acc)\n",
    "\n",
    "if verbose > 0:\n",
    "  print('Training complete in {:.0f}m {:.0f}s'.format(time_elapsed // 60, \n",
    "                                                      time_elapsed % 60))\n",
    "  print('Best val Acc: {:4f}'.format(best_acc)) \n",
    "  print('Best Epoch :', best_epoch+1) \n",
    "\n",
    "#return best_model, train_losses, val_losses, train_accs, val_accs, info\n"
   ]
  },
  {
   "cell_type": "code",
   "execution_count": null,
   "metadata": {},
   "outputs": [],
   "source": []
  }
 ],
 "metadata": {
  "kernelspec": {
   "display_name": "Python 3.7.7 64-bit ('mne': conda)",
   "language": "python",
   "name": "python37764bitmnecondacf6f4cb1b5c445cca0cf0998f0c571e1"
  },
  "language_info": {
   "codemirror_mode": {
    "name": "ipython",
    "version": 3
   },
   "file_extension": ".py",
   "mimetype": "text/x-python",
   "name": "python",
   "nbconvert_exporter": "python",
   "pygments_lexer": "ipython3",
   "version": "3.7.7"
  }
 },
 "nbformat": 4,
 "nbformat_minor": 4
}
